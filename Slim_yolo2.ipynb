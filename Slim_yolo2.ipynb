{
  "nbformat": 4,
  "nbformat_minor": 0,
  "metadata": {
    "colab": {
      "name": "Slim_yolo2.ipynb",
      "provenance": [],
      "authorship_tag": "ABX9TyPwj0mZ0lm7+qAn8nR0V6eP",
      "include_colab_link": true
    },
    "kernelspec": {
      "name": "python3",
      "display_name": "Python 3"
    },
    "language_info": {
      "name": "python"
    }
  },
  "cells": [
    {
      "cell_type": "markdown",
      "metadata": {
        "id": "view-in-github",
        "colab_type": "text"
      },
      "source": [
        "<a href=\"https://colab.research.google.com/github/Yuji-github/X_ray-Oject-Detection/blob/main/Slim_yolo2.ipynb\" target=\"_parent\"><img src=\"https://colab.research.google.com/assets/colab-badge.svg\" alt=\"Open In Colab\"/></a>"
      ]
    },
    {
      "cell_type": "code",
      "metadata": {
        "colab": {
          "base_uri": "https://localhost:8080/"
        },
        "id": "SETn1Zz-_Jlc",
        "outputId": "eb09e21e-e2cc-4eda-da99-86889101b55f"
      },
      "source": [
        "from google.colab import drive\n",
        "drive.mount('/content/drive')"
      ],
      "execution_count": null,
      "outputs": [
        {
          "output_type": "stream",
          "text": [
            "Mounted at /content/drive\n"
          ],
          "name": "stdout"
        }
      ]
    },
    {
      "cell_type": "code",
      "metadata": {
        "id": "uslWlNKS_Tak"
      },
      "source": [
        "import glob\n",
        "import shutil\n",
        "import os\n",
        "import json\n",
        "import pandas as pd \n",
        "import numpy as np"
      ],
      "execution_count": null,
      "outputs": []
    },
    {
      "cell_type": "markdown",
      "metadata": {
        "id": "9ktIIVEa_71o"
      },
      "source": [
        "**Change the location where I want to load**"
      ]
    },
    {
      "cell_type": "code",
      "metadata": {
        "colab": {
          "base_uri": "https://localhost:8080/"
        },
        "id": "m618bYpS_XNs",
        "outputId": "75132501-ea98-4765-fb8f-a6eee7a9da26"
      },
      "source": [
        "%cd /content/drive/MyDrive/YOLO_Custom"
      ],
      "execution_count": null,
      "outputs": [
        {
          "output_type": "stream",
          "text": [
            "/content/drive/MyDrive/YOLO_Custom\n"
          ],
          "name": "stdout"
        }
      ]
    },
    {
      "cell_type": "code",
      "metadata": {
        "id": "WY0uEk7v_YdZ"
      },
      "source": [
        "df = pd.read_csv('slim_yolo.csv')"
      ],
      "execution_count": null,
      "outputs": []
    },
    {
      "cell_type": "markdown",
      "metadata": {
        "id": "sI6D9aRsI2E2"
      },
      "source": [
        "**Removing Unbox Files from Data Frame and All Images Dataset**"
      ]
    },
    {
      "cell_type": "code",
      "metadata": {
        "id": "14y73J61I1nW"
      },
      "source": [
        "%mkdir UnBox"
      ],
      "execution_count": null,
      "outputs": []
    },
    {
      "cell_type": "code",
      "metadata": {
        "id": "aN-n07SUJIhG"
      },
      "source": [
        "unbox = []\n",
        "for index in range(len(df)): \n",
        "  if df.loc[index, 'new_xmax'] + df.loc[index, 'new_ymax'] == 2:     \n",
        "    unbox.append(df.loc[index, 'id'])\n",
        "    df.drop(index, inplace=True) # removing from data frame "
      ],
      "execution_count": null,
      "outputs": []
    },
    {
      "cell_type": "code",
      "metadata": {
        "id": "P3zdwBSUNBIx"
      },
      "source": [
        "unbox = ['/content/drive/MyDrive/YOLO_Custom/Alldata/' + name + '.jpg' for name in unbox] \n",
        "\n",
        "for images in unbox:\n",
        "    shutil.move(images, '/content/drive/MyDrive/YOLO_Custom/UnBox/')"
      ],
      "execution_count": null,
      "outputs": []
    },
    {
      "cell_type": "code",
      "metadata": {
        "id": "4SQgjvXUPDMl"
      },
      "source": [
        "unbox"
      ],
      "execution_count": null,
      "outputs": []
    },
    {
      "cell_type": "code",
      "metadata": {
        "id": "GVgP5ENbOXxd",
        "colab": {
          "base_uri": "https://localhost:8080/",
          "height": 180
        },
        "outputId": "b9c41e02-07fb-4b82-ecb8-812c92e16f93"
      },
      "source": [
        "df = df.reset_index()\n",
        "df = df.drop(columns=['index'])"
      ],
      "execution_count": null,
      "outputs": [
        {
          "output_type": "error",
          "ename": "NameError",
          "evalue": "ignored",
          "traceback": [
            "\u001b[0;31m---------------------------------------------------------------------------\u001b[0m",
            "\u001b[0;31mNameError\u001b[0m                                 Traceback (most recent call last)",
            "\u001b[0;32m<ipython-input-1-4f6646402689>\u001b[0m in \u001b[0;36m<module>\u001b[0;34m()\u001b[0m\n\u001b[0;32m----> 1\u001b[0;31m \u001b[0mdf\u001b[0m \u001b[0;34m=\u001b[0m \u001b[0mdf\u001b[0m\u001b[0;34m.\u001b[0m\u001b[0mreset_index\u001b[0m\u001b[0;34m(\u001b[0m\u001b[0;34m)\u001b[0m\u001b[0;34m\u001b[0m\u001b[0;34m\u001b[0m\u001b[0m\n\u001b[0m\u001b[1;32m      2\u001b[0m \u001b[0mdf\u001b[0m \u001b[0;34m=\u001b[0m \u001b[0mdf\u001b[0m\u001b[0;34m.\u001b[0m\u001b[0mdrop\u001b[0m\u001b[0;34m(\u001b[0m\u001b[0mcolumns\u001b[0m\u001b[0;34m=\u001b[0m\u001b[0;34m[\u001b[0m\u001b[0;34m'index'\u001b[0m\u001b[0;34m]\u001b[0m\u001b[0;34m)\u001b[0m\u001b[0;34m\u001b[0m\u001b[0;34m\u001b[0m\u001b[0m\n",
            "\u001b[0;31mNameError\u001b[0m: name 'df' is not defined"
          ]
        }
      ]
    },
    {
      "cell_type": "code",
      "metadata": {
        "id": "S2jbiJmdOg1u",
        "colab": {
          "base_uri": "https://localhost:8080/",
          "height": 419
        },
        "outputId": "61b4c94b-374e-4c09-e648-c0f636be7727"
      },
      "source": [
        "df"
      ],
      "execution_count": null,
      "outputs": [
        {
          "output_type": "execute_result",
          "data": {
            "text/html": [
              "<div>\n",
              "<style scoped>\n",
              "    .dataframe tbody tr th:only-of-type {\n",
              "        vertical-align: middle;\n",
              "    }\n",
              "\n",
              "    .dataframe tbody tr th {\n",
              "        vertical-align: top;\n",
              "    }\n",
              "\n",
              "    .dataframe thead th {\n",
              "        text-align: right;\n",
              "    }\n",
              "</style>\n",
              "<table border=\"1\" class=\"dataframe\">\n",
              "  <thead>\n",
              "    <tr style=\"text-align: right;\">\n",
              "      <th></th>\n",
              "      <th>id</th>\n",
              "      <th>Disease</th>\n",
              "      <th>new_xmin</th>\n",
              "      <th>new_ymin</th>\n",
              "      <th>new_xmax</th>\n",
              "      <th>new_ymax</th>\n",
              "    </tr>\n",
              "  </thead>\n",
              "  <tbody>\n",
              "    <tr>\n",
              "      <th>0</th>\n",
              "      <td>000a312787f2</td>\n",
              "      <td>0</td>\n",
              "      <td>0.398792</td>\n",
              "      <td>0.525315</td>\n",
              "      <td>0.426679</td>\n",
              "      <td>0.716667</td>\n",
              "    </tr>\n",
              "    <tr>\n",
              "      <th>1</th>\n",
              "      <td>000a312787f2</td>\n",
              "      <td>0</td>\n",
              "      <td>0.920160</td>\n",
              "      <td>0.506761</td>\n",
              "      <td>0.784909</td>\n",
              "      <td>0.674528</td>\n",
              "    </tr>\n",
              "    <tr>\n",
              "      <th>2</th>\n",
              "      <td>0012ff7358bc</td>\n",
              "      <td>0</td>\n",
              "      <td>0.474487</td>\n",
              "      <td>0.313230</td>\n",
              "      <td>0.505635</td>\n",
              "      <td>0.470817</td>\n",
              "    </tr>\n",
              "    <tr>\n",
              "      <th>3</th>\n",
              "      <td>0012ff7358bc</td>\n",
              "      <td>0</td>\n",
              "      <td>0.980874</td>\n",
              "      <td>0.474060</td>\n",
              "      <td>0.788520</td>\n",
              "      <td>0.631647</td>\n",
              "    </tr>\n",
              "    <tr>\n",
              "      <th>4</th>\n",
              "      <td>001398f4ff4f</td>\n",
              "      <td>2</td>\n",
              "      <td>1.067173</td>\n",
              "      <td>1.015341</td>\n",
              "      <td>0.859112</td>\n",
              "      <td>0.791288</td>\n",
              "    </tr>\n",
              "    <tr>\n",
              "      <th>...</th>\n",
              "      <td>...</td>\n",
              "      <td>...</td>\n",
              "      <td>...</td>\n",
              "      <td>...</td>\n",
              "      <td>...</td>\n",
              "      <td>...</td>\n",
              "    </tr>\n",
              "    <tr>\n",
              "      <th>7847</th>\n",
              "      <td>ffd9b6cf2961</td>\n",
              "      <td>0</td>\n",
              "      <td>0.412114</td>\n",
              "      <td>0.631370</td>\n",
              "      <td>0.360457</td>\n",
              "      <td>0.657984</td>\n",
              "    </tr>\n",
              "    <tr>\n",
              "      <th>7848</th>\n",
              "      <td>ffdc682f7680</td>\n",
              "      <td>0</td>\n",
              "      <td>1.137695</td>\n",
              "      <td>0.516251</td>\n",
              "      <td>0.992839</td>\n",
              "      <td>0.841985</td>\n",
              "    </tr>\n",
              "    <tr>\n",
              "      <th>7849</th>\n",
              "      <td>ffdc682f7680</td>\n",
              "      <td>0</td>\n",
              "      <td>0.432292</td>\n",
              "      <td>0.792698</td>\n",
              "      <td>0.391927</td>\n",
              "      <td>0.676752</td>\n",
              "    </tr>\n",
              "    <tr>\n",
              "      <th>7850</th>\n",
              "      <td>ffe942c8655f</td>\n",
              "      <td>0</td>\n",
              "      <td>0.388450</td>\n",
              "      <td>0.395903</td>\n",
              "      <td>0.475726</td>\n",
              "      <td>0.631219</td>\n",
              "    </tr>\n",
              "    <tr>\n",
              "      <th>7851</th>\n",
              "      <td>ffe942c8655f</td>\n",
              "      <td>0</td>\n",
              "      <td>0.971321</td>\n",
              "      <td>0.430155</td>\n",
              "      <td>0.853204</td>\n",
              "      <td>0.607098</td>\n",
              "    </tr>\n",
              "  </tbody>\n",
              "</table>\n",
              "<p>7852 rows × 6 columns</p>\n",
              "</div>"
            ],
            "text/plain": [
              "                id  Disease  new_xmin  new_ymin  new_xmax  new_ymax\n",
              "0     000a312787f2        0  0.398792  0.525315  0.426679  0.716667\n",
              "1     000a312787f2        0  0.920160  0.506761  0.784909  0.674528\n",
              "2     0012ff7358bc        0  0.474487  0.313230  0.505635  0.470817\n",
              "3     0012ff7358bc        0  0.980874  0.474060  0.788520  0.631647\n",
              "4     001398f4ff4f        2  1.067173  1.015341  0.859112  0.791288\n",
              "...            ...      ...       ...       ...       ...       ...\n",
              "7847  ffd9b6cf2961        0  0.412114  0.631370  0.360457  0.657984\n",
              "7848  ffdc682f7680        0  1.137695  0.516251  0.992839  0.841985\n",
              "7849  ffdc682f7680        0  0.432292  0.792698  0.391927  0.676752\n",
              "7850  ffe942c8655f        0  0.388450  0.395903  0.475726  0.631219\n",
              "7851  ffe942c8655f        0  0.971321  0.430155  0.853204  0.607098\n",
              "\n",
              "[7852 rows x 6 columns]"
            ]
          },
          "metadata": {
            "tags": []
          },
          "execution_count": 12
        }
      ]
    },
    {
      "cell_type": "code",
      "metadata": {
        "id": "ugZceMk5QLHm",
        "colab": {
          "base_uri": "https://localhost:8080/"
        },
        "outputId": "b76bcc0b-b26b-4bfb-d582-afa2b629fc06"
      },
      "source": [
        "path = '/content/drive/MyDrive/YOLO_Custom/Alldata'\n",
        "len(os.listdir(path)) # 4293? "
      ],
      "execution_count": null,
      "outputs": [
        {
          "output_type": "execute_result",
          "data": {
            "text/plain": [
              "4293"
            ]
          },
          "metadata": {
            "tags": []
          },
          "execution_count": 13
        }
      ]
    },
    {
      "cell_type": "markdown",
      "metadata": {
        "id": "jh95v4VrLdu8"
      },
      "source": [
        "**Group by ID's**"
      ]
    },
    {
      "cell_type": "code",
      "metadata": {
        "id": "EfH67ah1LEEU"
      },
      "source": [
        "df = df.groupby(['id']).agg(lambda x: x.tolist())"
      ],
      "execution_count": null,
      "outputs": []
    },
    {
      "cell_type": "code",
      "metadata": {
        "id": "olasO5Q8Msjx"
      },
      "source": [
        "df = df.reset_index()"
      ],
      "execution_count": null,
      "outputs": []
    },
    {
      "cell_type": "code",
      "metadata": {
        "id": "KhC6V_pHNe7_",
        "colab": {
          "base_uri": "https://localhost:8080/",
          "height": 111
        },
        "outputId": "784a3d5a-7e32-47cd-edd3-84b15db0e395"
      },
      "source": [
        "df.head(2)"
      ],
      "execution_count": null,
      "outputs": [
        {
          "output_type": "execute_result",
          "data": {
            "text/html": [
              "<div>\n",
              "<style scoped>\n",
              "    .dataframe tbody tr th:only-of-type {\n",
              "        vertical-align: middle;\n",
              "    }\n",
              "\n",
              "    .dataframe tbody tr th {\n",
              "        vertical-align: top;\n",
              "    }\n",
              "\n",
              "    .dataframe thead th {\n",
              "        text-align: right;\n",
              "    }\n",
              "</style>\n",
              "<table border=\"1\" class=\"dataframe\">\n",
              "  <thead>\n",
              "    <tr style=\"text-align: right;\">\n",
              "      <th></th>\n",
              "      <th>id</th>\n",
              "      <th>Disease</th>\n",
              "      <th>new_xmin</th>\n",
              "      <th>new_ymin</th>\n",
              "      <th>new_xmax</th>\n",
              "      <th>new_ymax</th>\n",
              "    </tr>\n",
              "  </thead>\n",
              "  <tbody>\n",
              "    <tr>\n",
              "      <th>0</th>\n",
              "      <td>000a312787f2</td>\n",
              "      <td>[0, 0]</td>\n",
              "      <td>[0.39879249295112784, 0.9201595230263157]</td>\n",
              "      <td>[0.5253145025802753, 0.5067610779816514]</td>\n",
              "      <td>[0.4266788016917293, 0.7849092340225563]</td>\n",
              "      <td>[0.7166666485091745, 0.6745283027522936]</td>\n",
              "    </tr>\n",
              "    <tr>\n",
              "      <th>1</th>\n",
              "      <td>0012ff7358bc</td>\n",
              "      <td>[0, 0]</td>\n",
              "      <td>[0.4744869355366492, 0.980873570026178]</td>\n",
              "      <td>[0.3132295597484276, 0.4740596501572327]</td>\n",
              "      <td>[0.5056347611256544, 0.7885202814136125]</td>\n",
              "      <td>[0.4708171226415094, 0.6316472091194968]</td>\n",
              "    </tr>\n",
              "  </tbody>\n",
              "</table>\n",
              "</div>"
            ],
            "text/plain": [
              "             id  ...                                  new_ymax\n",
              "0  000a312787f2  ...  [0.7166666485091745, 0.6745283027522936]\n",
              "1  0012ff7358bc  ...  [0.4708171226415094, 0.6316472091194968]\n",
              "\n",
              "[2 rows x 6 columns]"
            ]
          },
          "metadata": {
            "tags": []
          },
          "execution_count": 16
        }
      ]
    },
    {
      "cell_type": "markdown",
      "metadata": {
        "id": "KiTxJH5S_2_D"
      },
      "source": [
        "**Change the location where I want to save**"
      ]
    },
    {
      "cell_type": "code",
      "metadata": {
        "id": "-FSRsS8QPLVy"
      },
      "source": [
        "%mkdir Text"
      ],
      "execution_count": null,
      "outputs": []
    },
    {
      "cell_type": "code",
      "metadata": {
        "colab": {
          "base_uri": "https://localhost:8080/"
        },
        "id": "_Txy1eld_ofQ",
        "outputId": "af56d1b3-06d3-41ff-f93e-2d271c0f4312"
      },
      "source": [
        "%cd /content/drive/MyDrive/YOLO_Custom/Text"
      ],
      "execution_count": null,
      "outputs": [
        {
          "output_type": "stream",
          "text": [
            "/content/drive/MyDrive/YOLO_Custom/Text\n"
          ],
          "name": "stdout"
        }
      ]
    },
    {
      "cell_type": "markdown",
      "metadata": {
        "id": "lNbW7u5d_ySx"
      },
      "source": [
        "**Exporting**"
      ]
    },
    {
      "cell_type": "code",
      "metadata": {
        "id": "o3pH9kPdMLe_"
      },
      "source": [
        "for index in range(len(df)):\n",
        "\n",
        "  id = df.loc[index, 'id'] \n",
        "\n",
        "  save_list = [ df.loc[index, 'Disease'], df.loc[index, 'new_xmin'], df.loc[index, 'new_ymin'], df.loc[index, 'new_xmax'], df.loc[index, 'new_ymax'] ]\n",
        "  \n",
        "  save = ''\n",
        "  df_save = pd.DataFrame(['a', 'b', 'c', 'd', 'e'])\n",
        "\n",
        "  for a, b, c, d, e in zip(*save_list):\n",
        "    temp_list = [a, b, c, d, e]\n",
        "    save +=json.dumps(temp_list).strip('\"') #str() used \n",
        "\n",
        "  save = save.replace(\"[\", '').replace(\",\", '').replace(']', \"\\n\")\n",
        "  \n",
        "  with open(id + \".txt\", \"w\") as text_file:\n",
        "    text_file.write(save + '\\n')\n",
        "  \n",
        "# it takes time around 15min to reflect on google drive !!!"
      ],
      "execution_count": null,
      "outputs": []
    },
    {
      "cell_type": "markdown",
      "metadata": {
        "id": "FOTRfvsPWEIn"
      },
      "source": [
        "**Checking All files are exported becasue sometimes cannot export well even the code is correctly working**"
      ]
    },
    {
      "cell_type": "code",
      "metadata": {
        "colab": {
          "base_uri": "https://localhost:8080/"
        },
        "id": "xeEDm9x7JXUr",
        "outputId": "daa44713-971a-4d3d-ed00-aeca7c921863"
      },
      "source": [
        "data = '/content/drive/MyDrive/YOLO_Custom/Text'\n",
        "df['id']\n",
        "if len(df['id']) == len(os.listdir(data)):\n",
        "  print('okay!!!',len(df['id']),len(os.listdir(data)))\n",
        "else:\n",
        "  print('again',len(df['id']),len(os.listdir(data)))"
      ],
      "execution_count": null,
      "outputs": [
        {
          "output_type": "stream",
          "text": [
            "okay!!! 4294 4294\n"
          ],
          "name": "stdout"
        }
      ]
    }
  ]
}