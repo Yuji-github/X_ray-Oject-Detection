{
  "nbformat": 4,
  "nbformat_minor": 0,
  "metadata": {
    "colab": {
      "name": "Separate_Data.ipynb",
      "provenance": [],
      "authorship_tag": "ABX9TyMX8QDaIY6ANrFii36vNETp",
      "include_colab_link": true
    },
    "kernelspec": {
      "display_name": "Python 3",
      "name": "python3"
    },
    "language_info": {
      "name": "python"
    }
  },
  "cells": [
    {
      "cell_type": "markdown",
      "metadata": {
        "id": "view-in-github",
        "colab_type": "text"
      },
      "source": [
        "<a href=\"https://colab.research.google.com/github/Yuji-github/X_ray-Oject-Detection/blob/main/Separate_Data.ipynb\" target=\"_parent\"><img src=\"https://colab.research.google.com/assets/colab-badge.svg\" alt=\"Open In Colab\"/></a>"
      ]
    },
    {
      "cell_type": "code",
      "metadata": {
        "colab": {
          "base_uri": "https://localhost:8080/"
        },
        "id": "grpE55T8d1pZ",
        "outputId": "8b57fc9e-6528-4a3c-a5e4-4105ed1ff88a"
      },
      "source": [
        "from google.colab import drive\n",
        "drive.mount('/content/drive')"
      ],
      "execution_count": null,
      "outputs": [
        {
          "output_type": "stream",
          "text": [
            "Mounted at /content/drive\n"
          ],
          "name": "stdout"
        }
      ]
    },
    {
      "cell_type": "code",
      "metadata": {
        "id": "2SD5bx2nd8fF"
      },
      "source": [
        "import glob\n",
        "import shutil\n",
        "import os\n",
        "import pandas as pd \n",
        "import numpy as np"
      ],
      "execution_count": null,
      "outputs": []
    },
    {
      "cell_type": "markdown",
      "metadata": {
        "id": "HynIPToHd_Gn"
      },
      "source": [
        "**Change the location where I want to load**"
      ]
    },
    {
      "cell_type": "code",
      "metadata": {
        "colab": {
          "base_uri": "https://localhost:8080/"
        },
        "id": "zq70WJHHd7sn",
        "outputId": "c0de194a-eb59-4f79-89b8-c55e9c9fd84e"
      },
      "source": [
        "%cd /content/drive/MyDrive/YOLO_Custom"
      ],
      "execution_count": null,
      "outputs": [
        {
          "output_type": "stream",
          "text": [
            "/content/drive/MyDrive/YOLO_Custom\n"
          ],
          "name": "stdout"
        }
      ]
    },
    {
      "cell_type": "code",
      "metadata": {
        "id": "ri6qntyUOcZC"
      },
      "source": [
        "%mkdir Train\n",
        "%mkdir Valid\n",
        "%mkdir Test\n",
        "%mkdir Files"
      ],
      "execution_count": null,
      "outputs": []
    },
    {
      "cell_type": "code",
      "metadata": {
        "id": "ChHF9mG8f_wz"
      },
      "source": [
        "path = '/content/drive/MyDrive/YOLO_Custom/Alldata'\n",
        "allFileNames = os.listdir(path)"
      ],
      "execution_count": null,
      "outputs": []
    },
    {
      "cell_type": "code",
      "metadata": {
        "colab": {
          "base_uri": "https://localhost:8080/"
        },
        "id": "2ju5mBAJ9ZNj",
        "outputId": "ca7697b5-508f-4590-cfc9-0c009bd40b2e"
      },
      "source": [
        "print(len(allFileNames))\n",
        "print(len(os.listdir('/content/drive/MyDrive/YOLO_Custom/Text'))) #need to wait 10 or 15 mins to reflect files, if this values are not the same as the above, wait 10 min and reflesh this session"
      ],
      "execution_count": null,
      "outputs": [
        {
          "output_type": "stream",
          "text": [
            "4293\n",
            "4294\n"
          ],
          "name": "stdout"
        }
      ]
    },
    {
      "cell_type": "code",
      "metadata": {
        "colab": {
          "base_uri": "https://localhost:8080/"
        },
        "id": "OhAmhYnR2s4D",
        "outputId": "74f3e08e-412e-4a67-b676-62973ee2ed78"
      },
      "source": [
        "train_ratio = 0.80\n",
        "val_ratio = 0.10\n",
        "test_ratio = 0.10\n",
        "\n",
        "root_dir = '/content/drive/MyDrive/YOLO_Custom'\n",
        "np.random.shuffle(allFileNames)\n",
        "       \n",
        "train_FileNames, val_FileNames, test_FileNames = np.split(np.array(allFileNames),\n",
        "                                                          [int(len(allFileNames)* (1 - (val_ratio + test_ratio))), \n",
        "                                                            int(len(allFileNames)* (1 - test_ratio))])\n",
        "\n",
        "train_FileNames = [root_dir + '/Alldata/' + name for name in train_FileNames.tolist()]\n",
        "val_FileNames = [root_dir +'/Alldata/' + name for name in val_FileNames.tolist()]\n",
        "test_FileNames = [root_dir +'/Alldata/' + name for name in test_FileNames.tolist()]\n",
        "\n",
        "train_text = [name.replace('/Alldata', '/Text').replace(\".jpg\", \".txt\") for name in train_FileNames] \n",
        "valid_text = [name.replace('/Alldata', '/Text').replace(\".jpg\", \".txt\") for name in val_FileNames]\n",
        "test_text = [name.replace('/Alldata', '/Text').replace(\".jpg\", \".txt\") for name in test_FileNames]\n",
        "\n",
        "print('Total images: ', len(allFileNames))\n",
        "print('Training: ', len(train_FileNames),len(train_text))\n",
        "print('Validation: ', len(val_FileNames),len(valid_text))\n",
        "print('Testing: ', len(test_FileNames),len(test_text))\n",
        "\n",
        "train_obj = [name.replace('/content/drive/MyDrive/YOLO_Custom/Alldata', 'data/obj') for name in train_FileNames]\n",
        "valid_obj = [name.replace('/content/drive/MyDrive/YOLO_Custom/Alldata', 'data/obj') for name in val_FileNames]\n",
        "\n",
        "\n",
        "# # saving files\n",
        "with open(\"Files/data_train.txt\", \"w\") as f:\n",
        "    for s in train_FileNames:\n",
        "        f.write(s +\"\\n\")\n",
        "\n",
        "with open(\"Files/data_val.txt\", \"w\") as f:\n",
        "    for s in val_FileNames:\n",
        "        f.write(s +\"\\n\")\n",
        "\n",
        "with open(\"Files/data_test.txt\", \"w\") as f:\n",
        "    for s in test_FileNames:\n",
        "        f.write(s +\"\\n\")\n",
        "\n",
        "with open(\"Files/text_train.txt\", \"w\") as f:\n",
        "    for s in train_text:\n",
        "        f.write(s +\"\\n\")\n",
        "\n",
        "with open(\"Files/text_val.txt\", \"w\") as f:\n",
        "    for s in valid_text:\n",
        "        f.write(s +\"\\n\")\n",
        "\n",
        "with open(\"Files/text_test.txt\", \"w\") as f:\n",
        "    for s in test_text:\n",
        "        f.write(s +\"\\n\")\n",
        "\n",
        "with open(\"Files/train.txt\", \"w\") as f:\n",
        "    for s in train_obj:\n",
        "        f.write(s +\"\\n\")\n",
        "\n",
        "with open(\"Files/vaild.txt\", \"w\") as f:\n",
        "    for s in valid_obj:\n",
        "        f.write(s +\"\\n\")\n",
        "\n",
        "# # Copy-pasting images\n",
        "for images, text in zip(train_FileNames, train_text):\n",
        "    shutil.copy(images, root_dir +'/Train')\n",
        "    shutil.copy(text, root_dir +'/Train')\n",
        "\n",
        "for images, text in zip(val_FileNames, valid_text):\n",
        "    shutil.copy(images, root_dir +'/Valid')\n",
        "    shutil.copy(text, root_dir +'/Valid')\n",
        "\n",
        "for images, text in zip(test_FileNames, test_text):\n",
        "    shutil.copy(images, root_dir +'/Test')\n",
        "    shutil.copy(text, root_dir +'/Test')"
      ],
      "execution_count": null,
      "outputs": [
        {
          "output_type": "stream",
          "text": [
            "Total images:  4293\n",
            "Training:  3434 3434\n",
            "Validation:  429 429\n",
            "Testing:  430 430\n"
          ],
          "name": "stdout"
        }
      ]
    }
  ]
}