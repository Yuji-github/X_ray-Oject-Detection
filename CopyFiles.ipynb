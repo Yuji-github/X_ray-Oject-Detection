{
  "nbformat": 4,
  "nbformat_minor": 0,
  "metadata": {
    "colab": {
      "name": "CopyFiles.ipynb",
      "provenance": [],
      "authorship_tag": "ABX9TyPhBds+ZHNTSNL1TPdBrVcg",
      "include_colab_link": true
    },
    "kernelspec": {
      "name": "python3",
      "display_name": "Python 3"
    },
    "language_info": {
      "name": "python"
    },
    "accelerator": "GPU"
  },
  "cells": [
    {
      "cell_type": "markdown",
      "metadata": {
        "id": "view-in-github",
        "colab_type": "text"
      },
      "source": [
        "<a href=\"https://colab.research.google.com/github/Yuji-github/X_ray-Oject-Detection/blob/main/CopyFiles.ipynb\" target=\"_parent\"><img src=\"https://colab.research.google.com/assets/colab-badge.svg\" alt=\"Open In Colab\"/></a>"
      ]
    },
    {
      "cell_type": "code",
      "metadata": {
        "id": "VmiRT7z0-TnD",
        "colab": {
          "base_uri": "https://localhost:8080/"
        },
        "outputId": "7a2b141c-6868-42ee-be9c-677b92d4e492"
      },
      "source": [
        "from google.colab import drive\n",
        "drive.mount('/content/drive')"
      ],
      "execution_count": null,
      "outputs": [
        {
          "output_type": "stream",
          "text": [
            "Mounted at /content/drive\n"
          ],
          "name": "stdout"
        }
      ]
    },
    {
      "cell_type": "code",
      "metadata": {
        "id": "h6w8x5BN9weZ"
      },
      "source": [
        "import glob\n",
        "import shutil\n",
        "import os\n",
        "import pandas as pd \n",
        "import numpy as np"
      ],
      "execution_count": null,
      "outputs": []
    },
    {
      "cell_type": "code",
      "metadata": {
        "id": "UdTZIFZI-QJE",
        "colab": {
          "base_uri": "https://localhost:8080/"
        },
        "outputId": "9e704460-a6cf-4ad4-d32b-ed61b46207e9"
      },
      "source": [
        "%cd /content/drive/MyDrive/YOLO_Custom"
      ],
      "execution_count": null,
      "outputs": [
        {
          "output_type": "stream",
          "text": [
            "/content/drive/MyDrive/YOLO_Custom\n"
          ],
          "name": "stdout"
        }
      ]
    },
    {
      "cell_type": "code",
      "metadata": {
        "id": "nNmQOV9-O7-i"
      },
      "source": [
        "%mkdir Alldata"
      ],
      "execution_count": null,
      "outputs": []
    },
    {
      "cell_type": "code",
      "metadata": {
        "id": "05_elMIq9omw"
      },
      "source": [
        "src_dir = \"output\" # original folder location \n",
        "dst_dir = \"Alldata\" # save location \n",
        "for dirname, _, filenames in os.walk('output'):\n",
        "    for filename in filenames:      \n",
        "      if filename.endswith('.jpg'): #if end is with .jpg, them copy to new location\n",
        "        shutil.copy(os.path.join(dirname, filename), dst_dir)"
      ],
      "execution_count": null,
      "outputs": []
    },
    {
      "cell_type": "markdown",
      "metadata": {
        "id": "SFu34WyLOG_C"
      },
      "source": [
        "**Continue to Slim_yolo 1**"
      ]
    }
  ]
}