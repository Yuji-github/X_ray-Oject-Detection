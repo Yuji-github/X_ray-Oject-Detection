{
  "nbformat": 4,
  "nbformat_minor": 0,
  "metadata": {
    "colab": {
      "name": "Slim_yolo1.ipynb",
      "provenance": [],
      "authorship_tag": "ABX9TyPu86fJD+SIMbnYDuDqyffq",
      "include_colab_link": true
    },
    "kernelspec": {
      "name": "python3",
      "display_name": "Python 3"
    },
    "language_info": {
      "name": "python"
    }
  },
  "cells": [
    {
      "cell_type": "markdown",
      "metadata": {
        "id": "view-in-github",
        "colab_type": "text"
      },
      "source": [
        "<a href=\"https://colab.research.google.com/github/Yuji-github/X_ray-Oject-Detection/blob/main/Slim_yolo1.ipynb\" target=\"_parent\"><img src=\"https://colab.research.google.com/assets/colab-badge.svg\" alt=\"Open In Colab\"/></a>"
      ]
    },
    {
      "cell_type": "code",
      "metadata": {
        "colab": {
          "base_uri": "https://localhost:8080/"
        },
        "id": "CaTKpZl8wbRL",
        "outputId": "1c25317e-db25-4379-b3a4-dd3b720cc0ea"
      },
      "source": [
        "from google.colab import drive\n",
        "drive.mount('/content/drive')"
      ],
      "execution_count": null,
      "outputs": [
        {
          "output_type": "stream",
          "text": [
            "Mounted at /content/drive\n"
          ],
          "name": "stdout"
        }
      ]
    },
    {
      "cell_type": "code",
      "metadata": {
        "id": "vvotv78D1eQk"
      },
      "source": [
        "import glob\n",
        "import shutil\n",
        "import os\n",
        "import pandas as pd \n",
        "import numpy as np"
      ],
      "execution_count": null,
      "outputs": []
    },
    {
      "cell_type": "code",
      "metadata": {
        "id": "ADhYvrN-3Nbs",
        "colab": {
          "base_uri": "https://localhost:8080/"
        },
        "outputId": "2ef448cf-a1e6-4273-ba7d-9410dbaa38db"
      },
      "source": [
        "%cd /content/drive/MyDrive/YOLO_Custom"
      ],
      "execution_count": null,
      "outputs": [
        {
          "output_type": "stream",
          "text": [
            "/content/drive/MyDrive/YOLO_Custom\n"
          ],
          "name": "stdout"
        }
      ]
    },
    {
      "cell_type": "markdown",
      "metadata": {
        "id": "o8WvU1g50XRX"
      },
      "source": [
        "**Creating Text Files**"
      ]
    },
    {
      "cell_type": "code",
      "metadata": {
        "id": "Zb8ZSMlEOBgu"
      },
      "source": [
        "data = pd.read_csv('train.csv')"
      ],
      "execution_count": null,
      "outputs": []
    },
    {
      "cell_type": "markdown",
      "metadata": {
        "id": "wqWh8RCl0fV-"
      },
      "source": [
        "**Create a list for encoding**"
      ]
    },
    {
      "cell_type": "code",
      "metadata": {
        "id": "1iPVtwtU6TEr"
      },
      "source": [
        "disease = data['Disease'].unique().tolist()\n",
        "with open('_darknet.txt', 'w') as text:\n",
        "    for listitem in disease:\n",
        "        text.write('%s\\n' % listitem)"
      ],
      "execution_count": null,
      "outputs": []
    },
    {
      "cell_type": "markdown",
      "metadata": {
        "id": "1D944lJ-0onR"
      },
      "source": [
        "**New DataFrame for exporting**"
      ]
    },
    {
      "cell_type": "code",
      "metadata": {
        "id": "uuSfwBKS6o7B"
      },
      "source": [
        "df = data[[\"id\", 'Disease', 'new_xmin', 'new_ymin', 'new_xmax', 'new_ymax']]"
      ],
      "execution_count": null,
      "outputs": []
    },
    {
      "cell_type": "markdown",
      "metadata": {
        "id": "sT1AqvBc0ymu"
      },
      "source": [
        "**Encoding**"
      ]
    },
    {
      "cell_type": "code",
      "metadata": {
        "colab": {
          "base_uri": "https://localhost:8080/"
        },
        "id": "Ge76g-X968MJ",
        "outputId": "bf117604-bdeb-475c-bdba-ddfe5196e343"
      },
      "source": [
        "index = 0\n",
        "for itr in data[\"Disease\"]: \n",
        "\n",
        "  if itr == disease[0]: \n",
        "    df.loc[index, \"Disease\"] = 0  # Typical Appearance\n",
        "  elif itr == disease[1]: \n",
        "    df.loc[index, \"Disease\"] = 1  # Negative for Pneumonia \n",
        "  elif itr == disease[2]: \n",
        "    df.loc[index, \"Disease\"] = 2  # Atypical Appearance\n",
        "  elif itr == disease[3]: \n",
        "    df.loc[index, \"Disease\"] = 3  # Indeterminate Appearance\n",
        "  \n",
        "  index +=1"
      ],
      "execution_count": null,
      "outputs": [
        {
          "output_type": "stream",
          "text": [
            "/usr/local/lib/python3.7/dist-packages/pandas/core/indexing.py:1763: SettingWithCopyWarning: \n",
            "A value is trying to be set on a copy of a slice from a DataFrame.\n",
            "Try using .loc[row_indexer,col_indexer] = value instead\n",
            "\n",
            "See the caveats in the documentation: https://pandas.pydata.org/pandas-docs/stable/user_guide/indexing.html#returning-a-view-versus-a-copy\n",
            "  isetter(loc, value)\n"
          ],
          "name": "stderr"
        }
      ]
    },
    {
      "cell_type": "code",
      "metadata": {
        "id": "rQF5oPx4-b_B"
      },
      "source": [
        "df.to_csv('slim_yolo.csv', index=False)"
      ],
      "execution_count": null,
      "outputs": []
    },
    {
      "cell_type": "markdown",
      "metadata": {
        "id": "d2VQgFOxABsZ"
      },
      "source": [
        "**Saving File (Continue to Slim_yolo 2)**"
      ]
    }
  ]
}