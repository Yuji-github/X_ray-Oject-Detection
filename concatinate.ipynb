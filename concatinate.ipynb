{
 "cells": [
  {
   "cell_type": "code",
   "execution_count": 1,
   "id": "8c8eac3e",
   "metadata": {
    "_cell_guid": "b1076dfc-b9ad-4769-8c92-a6c4dae69d19",
    "_uuid": "8f2839f25d086af736a60e9eeb907d3b93b6e0e5",
    "collapsed": true,
    "execution": {
     "iopub.execute_input": "2021-07-15T04:46:02.477571Z",
     "iopub.status.busy": "2021-07-15T04:46:02.476514Z",
     "iopub.status.idle": "2021-07-15T04:46:02.485252Z",
     "shell.execute_reply": "2021-07-15T04:46:02.485736Z",
     "shell.execute_reply.started": "2021-07-15T04:44:33.150583Z"
    },
    "jupyter": {
     "outputs_hidden": true
    },
    "papermill": {
     "duration": 0.023588,
     "end_time": "2021-07-15T04:46:02.486023",
     "exception": false,
     "start_time": "2021-07-15T04:46:02.462435",
     "status": "completed"
    },
    "tags": []
   },
   "outputs": [],
   "source": [
    "# This Python 3 environment comes with many helpful analytics libraries installed\n",
    "# It is defined by the kaggle/python Docker image: https://github.com/kaggle/docker-python\n",
    "# For example, here's several helpful packages to load\n",
    "\n",
    "import numpy as np # linear algebra\n",
    "import pandas as pd # data processing, CSV file I/O (e.g. pd.read_csv)\n",
    "\n",
    "# Input data files are available in the read-only \"../input/\" directory\n",
    "# For example, running this (by clicking run or pressing Shift+Enter) will list all files under the input directory\n",
    "\n",
    "import os\n",
    "os.chdir(\"/kaggle/input/\")\n",
    "# os.mkdir('/kaggle/input/slim_trained')\n",
    "for dirname, _, filenames in os.walk('../input/siim-covid19-detectionut'):\n",
    "    for filename in filenames:\n",
    "        print(os.path.join(dirname, filename))\n",
    "\n",
    "# You can write up to 20GB to the current directory (/kaggle/working/) that gets preserved as output when you create a version using \"Save & Run All\" \n",
    "# You can also write temporary files to /kaggle/temp/, but they won't be saved outside of the current session"
   ]
  },
  {
   "cell_type": "code",
   "execution_count": 2,
   "id": "5fe8a3e0",
   "metadata": {
    "execution": {
     "iopub.execute_input": "2021-07-15T04:46:02.510150Z",
     "iopub.status.busy": "2021-07-15T04:46:02.509546Z",
     "iopub.status.idle": "2021-07-15T04:46:02.654136Z",
     "shell.execute_reply": "2021-07-15T04:46:02.654609Z",
     "shell.execute_reply.started": "2021-07-15T04:44:59.586421Z"
    },
    "papermill": {
     "duration": 0.158622,
     "end_time": "2021-07-15T04:46:02.654791",
     "exception": false,
     "start_time": "2021-07-15T04:46:02.496169",
     "status": "completed"
    },
    "tags": []
   },
   "outputs": [],
   "source": [
    "data_image = pd.read_csv(r'../input/siim-covid19-detection/train_image_level.csv')\n",
    "data_study  = pd.read_csv(r'../input/siim-covid19-detection/train_study_level.csv')"
   ]
  },
  {
   "cell_type": "markdown",
   "id": "70aed676",
   "metadata": {
    "papermill": {
     "duration": 0.009501,
     "end_time": "2021-07-15T04:46:02.674549",
     "exception": false,
     "start_time": "2021-07-15T04:46:02.665048",
     "status": "completed"
    },
    "tags": []
   },
   "source": [
    "# Concatinate the above files by ID's"
   ]
  },
  {
   "cell_type": "markdown",
   "id": "c1c26811",
   "metadata": {
    "papermill": {
     "duration": 0.009303,
     "end_time": "2021-07-15T04:46:02.693520",
     "exception": false,
     "start_time": "2021-07-15T04:46:02.684217",
     "status": "completed"
    },
    "tags": []
   },
   "source": [
    "Step1: Get the Path for the images"
   ]
  },
  {
   "cell_type": "code",
   "execution_count": 3,
   "id": "cdcee336",
   "metadata": {
    "execution": {
     "iopub.execute_input": "2021-07-15T04:46:02.715991Z",
     "iopub.status.busy": "2021-07-15T04:46:02.715345Z",
     "iopub.status.idle": "2021-07-15T04:46:25.216184Z",
     "shell.execute_reply": "2021-07-15T04:46:25.215184Z",
     "shell.execute_reply.started": "2021-07-15T04:44:59.735671Z"
    },
    "papermill": {
     "duration": 22.513014,
     "end_time": "2021-07-15T04:46:25.216335",
     "exception": false,
     "start_time": "2021-07-15T04:46:02.703321",
     "status": "completed"
    },
    "tags": []
   },
   "outputs": [],
   "source": [
    "trainimlist = []\n",
    "\n",
    "for dirname, _, filenames in os.walk('../input/siim-covid19-detection/train'):\n",
    "    for filename in filenames:\n",
    "        trainimlist.append(os.path.join(dirname, filename))"
   ]
  },
  {
   "cell_type": "markdown",
   "id": "3ff984ff",
   "metadata": {
    "papermill": {
     "duration": 0.009037,
     "end_time": "2021-07-15T04:46:25.234923",
     "exception": false,
     "start_time": "2021-07-15T04:46:25.225886",
     "status": "completed"
    },
    "tags": []
   },
   "source": [
    "Step2: check image_id and train/Id's are the same"
   ]
  },
  {
   "cell_type": "code",
   "execution_count": 4,
   "id": "ee78616c",
   "metadata": {
    "execution": {
     "iopub.execute_input": "2021-07-15T04:46:25.262457Z",
     "iopub.status.busy": "2021-07-15T04:46:25.261709Z",
     "iopub.status.idle": "2021-07-15T04:46:30.515790Z",
     "shell.execute_reply": "2021-07-15T04:46:30.516251Z",
     "shell.execute_reply.started": "2021-07-15T04:45:04.236751Z"
    },
    "papermill": {
     "duration": 5.272204,
     "end_time": "2021-07-15T04:46:30.516420",
     "exception": false,
     "start_time": "2021-07-15T04:46:25.244216",
     "status": "completed"
    },
    "tags": []
   },
   "outputs": [],
   "source": [
    "# check id in train_imgage_level and Names in the train folder are the same\n",
    "\n",
    "# to store path with order by id in train_imgage_level\n",
    "\n",
    "Path = [] \n",
    "\n",
    "for image_id in data_image['id']:\n",
    "    target = image_id.replace('_image', '')\n",
    "    for path in trainimlist:\n",
    "        if target in path: \n",
    "            Path.append(path)"
   ]
  },
  {
   "cell_type": "markdown",
   "id": "3142dc2a",
   "metadata": {
    "papermill": {
     "duration": 0.009206,
     "end_time": "2021-07-15T04:46:30.535045",
     "exception": false,
     "start_time": "2021-07-15T04:46:30.525839",
     "status": "completed"
    },
    "tags": []
   },
   "source": [
    "Adding the Path list to the data_image file"
   ]
  },
  {
   "cell_type": "code",
   "execution_count": 5,
   "id": "3621282d",
   "metadata": {
    "execution": {
     "iopub.execute_input": "2021-07-15T04:46:30.557444Z",
     "iopub.status.busy": "2021-07-15T04:46:30.556520Z",
     "iopub.status.idle": "2021-07-15T04:46:30.572316Z",
     "shell.execute_reply": "2021-07-15T04:46:30.572742Z",
     "shell.execute_reply.started": "2021-07-15T04:45:09.509076Z"
    },
    "papermill": {
     "duration": 0.028297,
     "end_time": "2021-07-15T04:46:30.572916",
     "exception": false,
     "start_time": "2021-07-15T04:46:30.544619",
     "status": "completed"
    },
    "tags": []
   },
   "outputs": [
    {
     "data": {
      "text/plain": [
       "6334"
      ]
     },
     "execution_count": 5,
     "metadata": {},
     "output_type": "execute_result"
    }
   ],
   "source": [
    "data_image[\"Path\"] = pd.Series(Path, index=data_image.index)\n",
    "\n",
    "# data_image id (6334) and images in train folder (6334) are one-to-one relationships\n",
    "len(data_image['Path'].unique().tolist())"
   ]
  },
  {
   "cell_type": "code",
   "execution_count": 6,
   "id": "d6efae74",
   "metadata": {
    "execution": {
     "iopub.execute_input": "2021-07-15T04:46:30.596153Z",
     "iopub.status.busy": "2021-07-15T04:46:30.595280Z",
     "iopub.status.idle": "2021-07-15T04:46:30.613162Z",
     "shell.execute_reply": "2021-07-15T04:46:30.612654Z",
     "shell.execute_reply.started": "2021-07-15T04:45:09.527923Z"
    },
    "papermill": {
     "duration": 0.030347,
     "end_time": "2021-07-15T04:46:30.613307",
     "exception": false,
     "start_time": "2021-07-15T04:46:30.582960",
     "status": "completed"
    },
    "tags": []
   },
   "outputs": [
    {
     "data": {
      "text/html": [
       "<div>\n",
       "<style scoped>\n",
       "    .dataframe tbody tr th:only-of-type {\n",
       "        vertical-align: middle;\n",
       "    }\n",
       "\n",
       "    .dataframe tbody tr th {\n",
       "        vertical-align: top;\n",
       "    }\n",
       "\n",
       "    .dataframe thead th {\n",
       "        text-align: right;\n",
       "    }\n",
       "</style>\n",
       "<table border=\"1\" class=\"dataframe\">\n",
       "  <thead>\n",
       "    <tr style=\"text-align: right;\">\n",
       "      <th></th>\n",
       "      <th>id</th>\n",
       "      <th>boxes</th>\n",
       "      <th>label</th>\n",
       "      <th>StudyInstanceUID</th>\n",
       "      <th>Path</th>\n",
       "    </tr>\n",
       "  </thead>\n",
       "  <tbody>\n",
       "    <tr>\n",
       "      <th>0</th>\n",
       "      <td>000a312787f2_image</td>\n",
       "      <td>[{'x': 789.28836, 'y': 582.43035, 'width': 102...</td>\n",
       "      <td>opacity 1 789.28836 582.43035 1815.94498 2499....</td>\n",
       "      <td>5776db0cec75</td>\n",
       "      <td>../input/siim-covid19-detection/train/5776db0c...</td>\n",
       "    </tr>\n",
       "    <tr>\n",
       "      <th>1</th>\n",
       "      <td>000c3a3f293f_image</td>\n",
       "      <td>NaN</td>\n",
       "      <td>none 1 0 0 1 1</td>\n",
       "      <td>ff0879eb20ed</td>\n",
       "      <td>../input/siim-covid19-detection/train/ff0879eb...</td>\n",
       "    </tr>\n",
       "    <tr>\n",
       "      <th>2</th>\n",
       "      <td>0012ff7358bc_image</td>\n",
       "      <td>[{'x': 677.42216, 'y': 197.97662, 'width': 867...</td>\n",
       "      <td>opacity 1 677.42216 197.97662 1545.21983 1197....</td>\n",
       "      <td>9d514ce429a7</td>\n",
       "      <td>../input/siim-covid19-detection/train/9d514ce4...</td>\n",
       "    </tr>\n",
       "  </tbody>\n",
       "</table>\n",
       "</div>"
      ],
      "text/plain": [
       "                   id                                              boxes  \\\n",
       "0  000a312787f2_image  [{'x': 789.28836, 'y': 582.43035, 'width': 102...   \n",
       "1  000c3a3f293f_image                                                NaN   \n",
       "2  0012ff7358bc_image  [{'x': 677.42216, 'y': 197.97662, 'width': 867...   \n",
       "\n",
       "                                               label StudyInstanceUID  \\\n",
       "0  opacity 1 789.28836 582.43035 1815.94498 2499....     5776db0cec75   \n",
       "1                                     none 1 0 0 1 1     ff0879eb20ed   \n",
       "2  opacity 1 677.42216 197.97662 1545.21983 1197....     9d514ce429a7   \n",
       "\n",
       "                                                Path  \n",
       "0  ../input/siim-covid19-detection/train/5776db0c...  \n",
       "1  ../input/siim-covid19-detection/train/ff0879eb...  \n",
       "2  ../input/siim-covid19-detection/train/9d514ce4...  "
      ]
     },
     "execution_count": 6,
     "metadata": {},
     "output_type": "execute_result"
    }
   ],
   "source": [
    "# checking \n",
    "data_image.head(3)"
   ]
  },
  {
   "cell_type": "code",
   "execution_count": 7,
   "id": "93fb5f2e",
   "metadata": {
    "execution": {
     "iopub.execute_input": "2021-07-15T04:46:30.659122Z",
     "iopub.status.busy": "2021-07-15T04:46:30.655350Z",
     "iopub.status.idle": "2021-07-15T04:46:52.429299Z",
     "shell.execute_reply": "2021-07-15T04:46:52.428816Z",
     "shell.execute_reply.started": "2021-07-15T04:45:09.550744Z"
    },
    "papermill": {
     "duration": 21.805885,
     "end_time": "2021-07-15T04:46:52.429439",
     "exception": false,
     "start_time": "2021-07-15T04:46:30.623554",
     "status": "completed"
    },
    "tags": []
   },
   "outputs": [],
   "source": [
    "for itr in data_study['id']:\n",
    "    data_study['id'] = data_study['id'].str.replace('_study', '')"
   ]
  },
  {
   "cell_type": "markdown",
   "id": "2ccb7d8d",
   "metadata": {
    "papermill": {
     "duration": 0.009686,
     "end_time": "2021-07-15T04:46:52.449228",
     "exception": false,
     "start_time": "2021-07-15T04:46:52.439542",
     "status": "completed"
    },
    "tags": []
   },
   "source": [
    "StudyInstanceID and data_study['id'] are related.\n",
    "So, removing _study from data_study for merge the 2 data-frames."
   ]
  },
  {
   "cell_type": "code",
   "execution_count": 8,
   "id": "97c4363d",
   "metadata": {
    "execution": {
     "iopub.execute_input": "2021-07-15T04:46:52.474095Z",
     "iopub.status.busy": "2021-07-15T04:46:52.473194Z",
     "iopub.status.idle": "2021-07-15T04:46:52.476358Z",
     "shell.execute_reply": "2021-07-15T04:46:52.476871Z",
     "shell.execute_reply.started": "2021-07-15T04:45:30.465207Z"
    },
    "papermill": {
     "duration": 0.017861,
     "end_time": "2021-07-15T04:46:52.477025",
     "exception": false,
     "start_time": "2021-07-15T04:46:52.459164",
     "status": "completed"
    },
    "tags": []
   },
   "outputs": [],
   "source": [
    "data_study = data_study.rename(columns={'id': \"StudyInstanceUID\"})"
   ]
  },
  {
   "cell_type": "markdown",
   "id": "b69f4553",
   "metadata": {
    "papermill": {
     "duration": 0.009685,
     "end_time": "2021-07-15T04:46:52.496675",
     "exception": false,
     "start_time": "2021-07-15T04:46:52.486990",
     "status": "completed"
    },
    "tags": []
   },
   "source": [
    "This step is for merge as merge requires the same column name"
   ]
  },
  {
   "cell_type": "code",
   "execution_count": 9,
   "id": "9cfe3255",
   "metadata": {
    "execution": {
     "iopub.execute_input": "2021-07-15T04:46:52.527613Z",
     "iopub.status.busy": "2021-07-15T04:46:52.526951Z",
     "iopub.status.idle": "2021-07-15T04:46:52.539083Z",
     "shell.execute_reply": "2021-07-15T04:46:52.538560Z",
     "shell.execute_reply.started": "2021-07-15T04:45:30.471991Z"
    },
    "papermill": {
     "duration": 0.032674,
     "end_time": "2021-07-15T04:46:52.539221",
     "exception": false,
     "start_time": "2021-07-15T04:46:52.506547",
     "status": "completed"
    },
    "tags": []
   },
   "outputs": [],
   "source": [
    "train = pd.merge(data_image, data_study, on='StudyInstanceUID')"
   ]
  },
  {
   "cell_type": "markdown",
   "id": "320e4cfb",
   "metadata": {
    "papermill": {
     "duration": 0.009784,
     "end_time": "2021-07-15T04:46:52.559172",
     "exception": false,
     "start_time": "2021-07-15T04:46:52.549388",
     "status": "completed"
    },
    "tags": []
   },
   "source": [
    "Only rows are kept for which common keys are found in both data frames.\n",
    "In case you want to keep all rows from the left data frame (data_image) and only add values from data_study where a matching key is available, you can use how=\"left\"."
   ]
  },
  {
   "cell_type": "code",
   "execution_count": 10,
   "id": "0852ff5f",
   "metadata": {
    "execution": {
     "iopub.execute_input": "2021-07-15T04:46:52.583676Z",
     "iopub.status.busy": "2021-07-15T04:46:52.582785Z",
     "iopub.status.idle": "2021-07-15T04:46:52.633166Z",
     "shell.execute_reply": "2021-07-15T04:46:52.633585Z",
     "shell.execute_reply.started": "2021-07-15T04:45:30.497919Z"
    },
    "papermill": {
     "duration": 0.064589,
     "end_time": "2021-07-15T04:46:52.633769",
     "exception": false,
     "start_time": "2021-07-15T04:46:52.569180",
     "status": "completed"
    },
    "tags": []
   },
   "outputs": [],
   "source": [
    "# saving data_frame: check output /kaggle/working/slim folder \n",
    "train.to_csv('/kaggle/working/train_data.csv',index=False)"
   ]
  }
 ],
 "metadata": {
  "kernelspec": {
   "display_name": "Python 3",
   "language": "python",
   "name": "python3"
  },
  "language_info": {
   "codemirror_mode": {
    "name": "ipython",
    "version": 3
   },
   "file_extension": ".py",
   "mimetype": "text/x-python",
   "name": "python",
   "nbconvert_exporter": "python",
   "pygments_lexer": "ipython3",
   "version": "3.7.10"
  },
  "papermill": {
   "default_parameters": {},
   "duration": 58.847602,
   "end_time": "2021-07-15T04:46:53.857522",
   "environment_variables": {},
   "exception": null,
   "input_path": "__notebook__.ipynb",
   "output_path": "__notebook__.ipynb",
   "parameters": {},
   "start_time": "2021-07-15T04:45:55.009920",
   "version": "2.3.3"
  }
 },
 "nbformat": 4,
 "nbformat_minor": 5
}
