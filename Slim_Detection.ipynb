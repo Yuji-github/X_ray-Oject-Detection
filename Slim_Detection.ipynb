{
  "nbformat": 4,
  "nbformat_minor": 0,
  "metadata": {
    "colab": {
      "name": "Slim_Detection.ipynb",
      "provenance": [],
      "authorship_tag": "ABX9TyMFMdAD/dTHVRgxQnQFqYpq",
      "include_colab_link": true
    },
    "kernelspec": {
      "name": "python3",
      "display_name": "Python 3"
    },
    "language_info": {
      "name": "python"
    },
    "accelerator": "GPU"
  },
  "cells": [
    {
      "cell_type": "markdown",
      "metadata": {
        "id": "view-in-github",
        "colab_type": "text"
      },
      "source": [
        "<a href=\"https://colab.research.google.com/github/Yuji-github/X_ray-Oject-Detection/blob/main/Slim_Detection.ipynb\" target=\"_parent\"><img src=\"https://colab.research.google.com/assets/colab-badge.svg\" alt=\"Open In Colab\"/></a>"
      ]
    },
    {
      "cell_type": "code",
      "metadata": {
        "colab": {
          "base_uri": "https://localhost:8080/"
        },
        "id": "AjOoL6P_y_bf",
        "outputId": "fd72478b-57f9-4106-e176-5fb49b47e095"
      },
      "source": [
        "import cv2\n",
        "from google.colab import drive\n",
        "drive.mount('/content/drive')"
      ],
      "execution_count": null,
      "outputs": [
        {
          "output_type": "stream",
          "text": [
            "Mounted at /content/drive\n"
          ],
          "name": "stdout"
        }
      ]
    },
    {
      "cell_type": "code",
      "metadata": {
        "colab": {
          "base_uri": "https://localhost:8080/"
        },
        "id": "yrbAlggKzpcU",
        "outputId": "8ada6d6e-1265-4e74-9c0c-353965f1c095"
      },
      "source": [
        "%cd /content/drive/MyDrive/YOLO_Custom"
      ],
      "execution_count": null,
      "outputs": [
        {
          "output_type": "stream",
          "text": [
            "/content/drive/MyDrive/YOLO_Custom\n"
          ],
          "name": "stdout"
        }
      ]
    },
    {
      "cell_type": "markdown",
      "metadata": {
        "id": "VhSF7Dg10rGW"
      },
      "source": [
        "**Create Data Folder at YOLO_Custom**"
      ]
    },
    {
      "cell_type": "code",
      "metadata": {
        "id": "S2MU9j3Kzywc"
      },
      "source": [
        "%mkdir data # if tain.txt has Data/obj/****.jpg, thne folder name is Data"
      ],
      "execution_count": null,
      "outputs": []
    },
    {
      "cell_type": "markdown",
      "metadata": {
        "id": "0QLilPkPdGot"
      },
      "source": [
        "**Make Sure Files Folder contains [ _darknet.txt, train.txt, and valid.txt [link text ]**"
      ]
    },
    {
      "cell_type": "code",
      "metadata": {
        "id": "EvWi6QumcoMV"
      },
      "source": [
        "%cp Files/_darknet.txt Train/_darknet.labels\n",
        "%cp Files/train.txt data/train.txt\n",
        "%cp Files/vaild.txt data/valid.txt"
      ],
      "execution_count": null,
      "outputs": []
    },
    {
      "cell_type": "markdown",
      "metadata": {
        "id": "R-jgFdW1dpa5"
      },
      "source": [
        "**The below step takes a lot of time** "
      ]
    },
    {
      "cell_type": "code",
      "metadata": {
        "id": "V5FVPG_O0kTR"
      },
      "source": [
        "%cp Train/_darknet.labels data/obj.names # create files for learning, make sure correct location and create data folder for each custome detection\n",
        "%mkdir data/obj # if data folder is not empty, make new data1, data2 and so on and change the folder names\n",
        "\n",
        "%cp Train/*.jpg data/obj/\n",
        "%cp Valid/*.jpg data/obj/\n",
        "\n",
        "%cp Train/*.txt data/obj/\n",
        "%cp Valid/*.txt data/obj/\n",
        "\n",
        "with open('data/obj.data', 'w') as out:\n",
        "  out.write('classes = 4\\n')\n",
        "  out.write('train = data/train.txt\\n')\n",
        "  out.write('valid = data/valid.txt\\n')\n",
        "  out.write('names = data/obj.names\\n')\n",
        "  out.write('backup = backup/')"
      ],
      "execution_count": null,
      "outputs": []
    },
    {
      "cell_type": "markdown",
      "metadata": {
        "id": "XxXMEA0n5i-q"
      },
      "source": [
        "**Giving the permission to access darknet from /content/drive/MyDrive/YOLO_Custom If permission error occurs**"
      ]
    },
    {
      "cell_type": "code",
      "metadata": {
        "id": "TfOpvDfe5fim"
      },
      "source": [
        "!chmod +x darknet/darknet # if the location is different try !chmod +x ./darknet"
      ],
      "execution_count": null,
      "outputs": []
    },
    {
      "cell_type": "markdown",
      "metadata": {
        "id": "5k3KatJ6eBUj"
      },
      "source": [
        "Check lists: <br> Did you create/modify a cfg file? <br> Are the images size divided by 32? <br> Do you have all items in the Data folder? <br> Did you compile YOLO %make if you installed YOLO as the first time? <br> Do you have a backup folder? <br> Is the labels folder in the Data foler?"
      ]
    },
    {
      "cell_type": "markdown",
      "metadata": {
        "id": "a1LWpNbx-Etk"
      },
      "source": [
        "**Training: GPU MUST BE ON**"
      ]
    },
    {
      "cell_type": "code",
      "metadata": {
        "id": "rsVRDAmC5o16",
        "colab": {
          "base_uri": "https://localhost:8080/"
        },
        "outputId": "d15f4675-497e-497e-f5e6-9b81f4bfd27e"
      },
      "source": [
        "!darknet/darknet detector train data/obj.data darknet/cfg/yolov4_custom1.cfg custom_weight/yolov4.conv.137 -dont_show #train data/data.data"
      ],
      "execution_count": null,
      "outputs": [
        {
          "output_type": "stream",
          "text": [
            " CUDA-version: 11000 (11020), cuDNN: 7.6.5, GPU count: 1  \n",
            " OpenCV version: 3.2.0\n",
            "yolov4_custom1\n",
            " 0 : compute_capability = 750, cudnn_half = 0, GPU: Tesla T4 \n",
            "net.optimized_memory = 0 \n",
            "mini_batch = 4, batch = 64, time_steps = 1, train = 1 \n",
            "   layer   filters  size/strd(dil)      input                output\n",
            "   0 Create CUDA-stream - 0 \n",
            " Create cudnn-handle 0 \n",
            "conv     32       3 x 3/ 1    416 x 416 x   3 ->  416 x 416 x  32 0.299 BF\n",
            "   1 conv     64       3 x 3/ 2    416 x 416 x  32 ->  208 x 208 x  64 1.595 BF\n",
            "   2 conv     64       1 x 1/ 1    208 x 208 x  64 ->  208 x 208 x  64 0.354 BF\n",
            "   3 route  1 \t\t                           ->  208 x 208 x  64 \n",
            "   4 conv     64       1 x 1/ 1    208 x 208 x  64 ->  208 x 208 x  64 0.354 BF\n",
            "   5 conv     32       1 x 1/ 1    208 x 208 x  64 ->  208 x 208 x  32 0.177 BF\n",
            "   6 conv     64       3 x 3/ 1    208 x 208 x  32 ->  208 x 208 x  64 1.595 BF\n",
            "   7 Shortcut Layer: 4,  wt = 0, wn = 0, outputs: 208 x 208 x  64 0.003 BF\n",
            "   8 conv     64       1 x 1/ 1    208 x 208 x  64 ->  208 x 208 x  64 0.354 BF\n",
            "   9 route  8 2 \t                           ->  208 x 208 x 128 \n",
            "  10 conv     64       1 x 1/ 1    208 x 208 x 128 ->  208 x 208 x  64 0.709 BF\n",
            "  11 conv    128       3 x 3/ 2    208 x 208 x  64 ->  104 x 104 x 128 1.595 BF\n",
            "  12 conv     64       1 x 1/ 1    104 x 104 x 128 ->  104 x 104 x  64 0.177 BF\n",
            "  13 route  11 \t\t                           ->  104 x 104 x 128 \n",
            "  14 conv     64       1 x 1/ 1    104 x 104 x 128 ->  104 x 104 x  64 0.177 BF\n",
            "  15 conv     64       1 x 1/ 1    104 x 104 x  64 ->  104 x 104 x  64 0.089 BF\n",
            "  16 conv     64       3 x 3/ 1    104 x 104 x  64 ->  104 x 104 x  64 0.797 BF\n",
            "  17 Shortcut Layer: 14,  wt = 0, wn = 0, outputs: 104 x 104 x  64 0.001 BF\n",
            "  18 conv     64       1 x 1/ 1    104 x 104 x  64 ->  104 x 104 x  64 0.089 BF\n",
            "  19 conv     64       3 x 3/ 1    104 x 104 x  64 ->  104 x 104 x  64 0.797 BF\n",
            "  20 Shortcut Layer: 17,  wt = 0, wn = 0, outputs: 104 x 104 x  64 0.001 BF\n",
            "  21 conv     64       1 x 1/ 1    104 x 104 x  64 ->  104 x 104 x  64 0.089 BF\n",
            "  22 route  21 12 \t                           ->  104 x 104 x 128 \n",
            "  23 conv    128       1 x 1/ 1    104 x 104 x 128 ->  104 x 104 x 128 0.354 BF\n",
            "  24 conv    256       3 x 3/ 2    104 x 104 x 128 ->   52 x  52 x 256 1.595 BF\n",
            "  25 conv    128       1 x 1/ 1     52 x  52 x 256 ->   52 x  52 x 128 0.177 BF\n",
            "  26 route  24 \t\t                           ->   52 x  52 x 256 \n",
            "  27 conv    128       1 x 1/ 1     52 x  52 x 256 ->   52 x  52 x 128 0.177 BF\n",
            "  28 conv    128       1 x 1/ 1     52 x  52 x 128 ->   52 x  52 x 128 0.089 BF\n",
            "  29 conv    128       3 x 3/ 1     52 x  52 x 128 ->   52 x  52 x 128 0.797 BF\n",
            "  30 Shortcut Layer: 27,  wt = 0, wn = 0, outputs:  52 x  52 x 128 0.000 BF\n",
            "  31 conv    128       1 x 1/ 1     52 x  52 x 128 ->   52 x  52 x 128 0.089 BF\n",
            "  32 conv    128       3 x 3/ 1     52 x  52 x 128 ->   52 x  52 x 128 0.797 BF\n",
            "  33 Shortcut Layer: 30,  wt = 0, wn = 0, outputs:  52 x  52 x 128 0.000 BF\n",
            "  34 conv    128       1 x 1/ 1     52 x  52 x 128 ->   52 x  52 x 128 0.089 BF\n",
            "  35 conv    128       3 x 3/ 1     52 x  52 x 128 ->   52 x  52 x 128 0.797 BF\n",
            "  36 Shortcut Layer: 33,  wt = 0, wn = 0, outputs:  52 x  52 x 128 0.000 BF\n",
            "  37 conv    128       1 x 1/ 1     52 x  52 x 128 ->   52 x  52 x 128 0.089 BF\n",
            "  38 conv    128       3 x 3/ 1     52 x  52 x 128 ->   52 x  52 x 128 0.797 BF\n",
            "  39 Shortcut Layer: 36,  wt = 0, wn = 0, outputs:  52 x  52 x 128 0.000 BF\n",
            "  40 conv    128       1 x 1/ 1     52 x  52 x 128 ->   52 x  52 x 128 0.089 BF\n",
            "  41 conv    128       3 x 3/ 1     52 x  52 x 128 ->   52 x  52 x 128 0.797 BF\n",
            "  42 Shortcut Layer: 39,  wt = 0, wn = 0, outputs:  52 x  52 x 128 0.000 BF\n",
            "  43 conv    128       1 x 1/ 1     52 x  52 x 128 ->   52 x  52 x 128 0.089 BF\n",
            "  44 conv    128       3 x 3/ 1     52 x  52 x 128 ->   52 x  52 x 128 0.797 BF\n",
            "  45 Shortcut Layer: 42,  wt = 0, wn = 0, outputs:  52 x  52 x 128 0.000 BF\n",
            "  46 conv    128       1 x 1/ 1     52 x  52 x 128 ->   52 x  52 x 128 0.089 BF\n",
            "  47 conv    128       3 x 3/ 1     52 x  52 x 128 ->   52 x  52 x 128 0.797 BF\n",
            "  48 Shortcut Layer: 45,  wt = 0, wn = 0, outputs:  52 x  52 x 128 0.000 BF\n",
            "  49 conv    128       1 x 1/ 1     52 x  52 x 128 ->   52 x  52 x 128 0.089 BF\n",
            "  50 conv    128       3 x 3/ 1     52 x  52 x 128 ->   52 x  52 x 128 0.797 BF\n",
            "  51 Shortcut Layer: 48,  wt = 0, wn = 0, outputs:  52 x  52 x 128 0.000 BF\n",
            "  52 conv    128       1 x 1/ 1     52 x  52 x 128 ->   52 x  52 x 128 0.089 BF\n",
            "  53 route  52 25 \t                           ->   52 x  52 x 256 \n",
            "  54 conv    256       1 x 1/ 1     52 x  52 x 256 ->   52 x  52 x 256 0.354 BF\n",
            "  55 conv    512       3 x 3/ 2     52 x  52 x 256 ->   26 x  26 x 512 1.595 BF\n",
            "  56 conv    256       1 x 1/ 1     26 x  26 x 512 ->   26 x  26 x 256 0.177 BF\n",
            "  57 route  55 \t\t                           ->   26 x  26 x 512 \n",
            "  58 conv    256       1 x 1/ 1     26 x  26 x 512 ->   26 x  26 x 256 0.177 BF\n",
            "  59 conv    256       1 x 1/ 1     26 x  26 x 256 ->   26 x  26 x 256 0.089 BF\n",
            "  60 conv    256       3 x 3/ 1     26 x  26 x 256 ->   26 x  26 x 256 0.797 BF\n",
            "  61 Shortcut Layer: 58,  wt = 0, wn = 0, outputs:  26 x  26 x 256 0.000 BF\n",
            "  62 conv    256       1 x 1/ 1     26 x  26 x 256 ->   26 x  26 x 256 0.089 BF\n",
            "  63 conv    256       3 x 3/ 1     26 x  26 x 256 ->   26 x  26 x 256 0.797 BF\n",
            "  64 Shortcut Layer: 61,  wt = 0, wn = 0, outputs:  26 x  26 x 256 0.000 BF\n",
            "  65 conv    256       1 x 1/ 1     26 x  26 x 256 ->   26 x  26 x 256 0.089 BF\n",
            "  66 conv    256       3 x 3/ 1     26 x  26 x 256 ->   26 x  26 x 256 0.797 BF\n",
            "  67 Shortcut Layer: 64,  wt = 0, wn = 0, outputs:  26 x  26 x 256 0.000 BF\n",
            "  68 conv    256       1 x 1/ 1     26 x  26 x 256 ->   26 x  26 x 256 0.089 BF\n",
            "  69 conv    256       3 x 3/ 1     26 x  26 x 256 ->   26 x  26 x 256 0.797 BF\n",
            "  70 Shortcut Layer: 67,  wt = 0, wn = 0, outputs:  26 x  26 x 256 0.000 BF\n",
            "  71 conv    256       1 x 1/ 1     26 x  26 x 256 ->   26 x  26 x 256 0.089 BF\n",
            "  72 conv    256       3 x 3/ 1     26 x  26 x 256 ->   26 x  26 x 256 0.797 BF\n",
            "  73 Shortcut Layer: 70,  wt = 0, wn = 0, outputs:  26 x  26 x 256 0.000 BF\n",
            "  74 conv    256       1 x 1/ 1     26 x  26 x 256 ->   26 x  26 x 256 0.089 BF\n",
            "  75 conv    256       3 x 3/ 1     26 x  26 x 256 ->   26 x  26 x 256 0.797 BF\n",
            "  76 Shortcut Layer: 73,  wt = 0, wn = 0, outputs:  26 x  26 x 256 0.000 BF\n",
            "  77 conv    256       1 x 1/ 1     26 x  26 x 256 ->   26 x  26 x 256 0.089 BF\n",
            "  78 conv    256       3 x 3/ 1     26 x  26 x 256 ->   26 x  26 x 256 0.797 BF\n",
            "  79 Shortcut Layer: 76,  wt = 0, wn = 0, outputs:  26 x  26 x 256 0.000 BF\n",
            "  80 conv    256       1 x 1/ 1     26 x  26 x 256 ->   26 x  26 x 256 0.089 BF\n",
            "  81 conv    256       3 x 3/ 1     26 x  26 x 256 ->   26 x  26 x 256 0.797 BF\n",
            "  82 Shortcut Layer: 79,  wt = 0, wn = 0, outputs:  26 x  26 x 256 0.000 BF\n",
            "  83 conv    256       1 x 1/ 1     26 x  26 x 256 ->   26 x  26 x 256 0.089 BF\n",
            "  84 route  83 56 \t                           ->   26 x  26 x 512 \n",
            "  85 conv    512       1 x 1/ 1     26 x  26 x 512 ->   26 x  26 x 512 0.354 BF\n",
            "  86 conv   1024       3 x 3/ 2     26 x  26 x 512 ->   13 x  13 x1024 1.595 BF\n",
            "  87 conv    512       1 x 1/ 1     13 x  13 x1024 ->   13 x  13 x 512 0.177 BF\n",
            "  88 route  86 \t\t                           ->   13 x  13 x1024 \n",
            "  89 conv    512       1 x 1/ 1     13 x  13 x1024 ->   13 x  13 x 512 0.177 BF\n",
            "  90 conv    512       1 x 1/ 1     13 x  13 x 512 ->   13 x  13 x 512 0.089 BF\n",
            "  91 conv    512       3 x 3/ 1     13 x  13 x 512 ->   13 x  13 x 512 0.797 BF\n",
            "  92 Shortcut Layer: 89,  wt = 0, wn = 0, outputs:  13 x  13 x 512 0.000 BF\n",
            "  93 conv    512       1 x 1/ 1     13 x  13 x 512 ->   13 x  13 x 512 0.089 BF\n",
            "  94 conv    512       3 x 3/ 1     13 x  13 x 512 ->   13 x  13 x 512 0.797 BF\n",
            "  95 Shortcut Layer: 92,  wt = 0, wn = 0, outputs:  13 x  13 x 512 0.000 BF\n",
            "  96 conv    512       1 x 1/ 1     13 x  13 x 512 ->   13 x  13 x 512 0.089 BF\n",
            "  97 conv    512       3 x 3/ 1     13 x  13 x 512 ->   13 x  13 x 512 0.797 BF\n",
            "  98 Shortcut Layer: 95,  wt = 0, wn = 0, outputs:  13 x  13 x 512 0.000 BF\n",
            "  99 conv    512       1 x 1/ 1     13 x  13 x 512 ->   13 x  13 x 512 0.089 BF\n",
            " 100 conv    512       3 x 3/ 1     13 x  13 x 512 ->   13 x  13 x 512 0.797 BF\n",
            " 101 Shortcut Layer: 98,  wt = 0, wn = 0, outputs:  13 x  13 x 512 0.000 BF\n",
            " 102 conv    512       1 x 1/ 1     13 x  13 x 512 ->   13 x  13 x 512 0.089 BF\n",
            " 103 route  102 87 \t                           ->   13 x  13 x1024 \n",
            " 104 conv   1024       1 x 1/ 1     13 x  13 x1024 ->   13 x  13 x1024 0.354 BF\n",
            " 105 conv    512       1 x 1/ 1     13 x  13 x1024 ->   13 x  13 x 512 0.177 BF\n",
            " 106 conv   1024       3 x 3/ 1     13 x  13 x 512 ->   13 x  13 x1024 1.595 BF\n",
            " 107 conv    512       1 x 1/ 1     13 x  13 x1024 ->   13 x  13 x 512 0.177 BF\n",
            " 108 max                5x 5/ 1     13 x  13 x 512 ->   13 x  13 x 512 0.002 BF\n",
            " 109 route  107 \t\t                           ->   13 x  13 x 512 \n",
            " 110 max                9x 9/ 1     13 x  13 x 512 ->   13 x  13 x 512 0.007 BF\n",
            " 111 route  107 \t\t                           ->   13 x  13 x 512 \n",
            " 112 max               13x13/ 1     13 x  13 x 512 ->   13 x  13 x 512 0.015 BF\n",
            " 113 route  112 110 108 107 \t                   ->   13 x  13 x2048 \n",
            " 114 conv    512       1 x 1/ 1     13 x  13 x2048 ->   13 x  13 x 512 0.354 BF\n",
            " 115 conv   1024       3 x 3/ 1     13 x  13 x 512 ->   13 x  13 x1024 1.595 BF\n",
            " 116 conv    512       1 x 1/ 1     13 x  13 x1024 ->   13 x  13 x 512 0.177 BF\n",
            " 117 conv    256       1 x 1/ 1     13 x  13 x 512 ->   13 x  13 x 256 0.044 BF\n",
            " 118 upsample                 2x    13 x  13 x 256 ->   26 x  26 x 256\n",
            " 119 route  85 \t\t                           ->   26 x  26 x 512 \n",
            " 120 conv    256       1 x 1/ 1     26 x  26 x 512 ->   26 x  26 x 256 0.177 BF\n",
            " 121 route  120 118 \t                           ->   26 x  26 x 512 \n",
            " 122 conv    256       1 x 1/ 1     26 x  26 x 512 ->   26 x  26 x 256 0.177 BF\n",
            " 123 conv    512       3 x 3/ 1     26 x  26 x 256 ->   26 x  26 x 512 1.595 BF\n",
            " 124 conv    256       1 x 1/ 1     26 x  26 x 512 ->   26 x  26 x 256 0.177 BF\n",
            " 125 conv    512       3 x 3/ 1     26 x  26 x 256 ->   26 x  26 x 512 1.595 BF\n",
            " 126 conv    256       1 x 1/ 1     26 x  26 x 512 ->   26 x  26 x 256 0.177 BF\n",
            " 127 conv    128       1 x 1/ 1     26 x  26 x 256 ->   26 x  26 x 128 0.044 BF\n",
            " 128 upsample                 2x    26 x  26 x 128 ->   52 x  52 x 128\n",
            " 129 route  54 \t\t                           ->   52 x  52 x 256 \n",
            " 130 conv    128       1 x 1/ 1     52 x  52 x 256 ->   52 x  52 x 128 0.177 BF\n",
            " 131 route  130 128 \t                           ->   52 x  52 x 256 \n",
            " 132 conv    128       1 x 1/ 1     52 x  52 x 256 ->   52 x  52 x 128 0.177 BF\n",
            " 133 conv    256       3 x 3/ 1     52 x  52 x 128 ->   52 x  52 x 256 1.595 BF\n",
            " 134 conv    128       1 x 1/ 1     52 x  52 x 256 ->   52 x  52 x 128 0.177 BF\n",
            " 135 conv    256       3 x 3/ 1     52 x  52 x 128 ->   52 x  52 x 256 1.595 BF\n",
            " 136 conv    128       1 x 1/ 1     52 x  52 x 256 ->   52 x  52 x 128 0.177 BF\n",
            " 137 conv    256       3 x 3/ 1     52 x  52 x 128 ->   52 x  52 x 256 1.595 BF\n",
            " 138 conv     27       1 x 1/ 1     52 x  52 x 256 ->   52 x  52 x  27 0.037 BF\n",
            " 139 yolo\n",
            "[yolo] params: iou loss: ciou (4), iou_norm: 0.07, obj_norm: 1.00, cls_norm: 1.00, delta_norm: 1.00, scale_x_y: 1.20\n",
            "nms_kind: greedynms (1), beta = 0.600000 \n",
            " 140 route  136 \t\t                           ->   52 x  52 x 128 \n",
            " 141 conv    256       3 x 3/ 2     52 x  52 x 128 ->   26 x  26 x 256 0.399 BF\n",
            " 142 route  141 126 \t                           ->   26 x  26 x 512 \n",
            " 143 conv    256       1 x 1/ 1     26 x  26 x 512 ->   26 x  26 x 256 0.177 BF\n",
            " 144 conv    512       3 x 3/ 1     26 x  26 x 256 ->   26 x  26 x 512 1.595 BF\n",
            " 145 conv    256       1 x 1/ 1     26 x  26 x 512 ->   26 x  26 x 256 0.177 BF\n",
            " 146 conv    512       3 x 3/ 1     26 x  26 x 256 ->   26 x  26 x 512 1.595 BF\n",
            " 147 conv    256       1 x 1/ 1     26 x  26 x 512 ->   26 x  26 x 256 0.177 BF\n",
            " 148 conv    512       3 x 3/ 1     26 x  26 x 256 ->   26 x  26 x 512 1.595 BF\n",
            " 149 conv     27       1 x 1/ 1     26 x  26 x 512 ->   26 x  26 x  27 0.019 BF\n",
            " 150 yolo\n",
            "[yolo] params: iou loss: ciou (4), iou_norm: 0.07, obj_norm: 1.00, cls_norm: 1.00, delta_norm: 1.00, scale_x_y: 1.10\n",
            "nms_kind: greedynms (1), beta = 0.600000 \n",
            " 151 route  147 \t\t                           ->   26 x  26 x 256 \n",
            " 152 conv    512       3 x 3/ 2     26 x  26 x 256 ->   13 x  13 x 512 0.399 BF\n",
            " 153 route  152 116 \t                           ->   13 x  13 x1024 \n",
            " 154 conv    512       1 x 1/ 1     13 x  13 x1024 ->   13 x  13 x 512 0.177 BF\n",
            " 155 conv   1024       3 x 3/ 1     13 x  13 x 512 ->   13 x  13 x1024 1.595 BF\n",
            " 156 conv    512       1 x 1/ 1     13 x  13 x1024 ->   13 x  13 x 512 0.177 BF\n",
            " 157 conv   1024       3 x 3/ 1     13 x  13 x 512 ->   13 x  13 x1024 1.595 BF\n",
            " 158 conv    512       1 x 1/ 1     13 x  13 x1024 ->   13 x  13 x 512 0.177 BF\n",
            " 159 conv   1024       3 x 3/ 1     13 x  13 x 512 ->   13 x  13 x1024 1.595 BF\n",
            " 160 conv     27       1 x 1/ 1     13 x  13 x1024 ->   13 x  13 x  27 0.009 BF\n",
            " 161 yolo\n",
            "[yolo] params: iou loss: ciou (4), iou_norm: 0.07, obj_norm: 1.00, cls_norm: 1.00, delta_norm: 1.00, scale_x_y: 1.05\n",
            "nms_kind: greedynms (1), beta = 0.600000 \n",
            "Total BFLOPS 59.585 \n",
            "avg_outputs = 490173 \n",
            " Allocate additional workspace_size = 52.43 MB \n",
            "Loading weights from custom_weight/yolov4.conv.137...\n",
            " seen 64, trained: 0 K-images (0 Kilo-batches_64) \n",
            "Done! Loaded 137 layers from weights-file \n",
            "Learning Rate: 0.0013, Momentum: 0.949, Decay: 0.0005\n",
            " Detection layer: 139 - type = 28 \n",
            " Detection layer: 150 - type = 28 \n",
            " Detection layer: 161 - type = 28 \n",
            "Resizing, random_coef = 1.40 \n",
            "\n",
            " 608 x 608 \n",
            " Create 6 permanent cpu-threads \n",
            " try to allocate additional workspace_size = 52.43 MB \n",
            " CUDA allocate done! \n"
          ],
          "name": "stdout"
        }
      ]
    },
    {
      "cell_type": "markdown",
      "metadata": {
        "id": "k3JM8JFK-BN7"
      },
      "source": [
        "**For testing, must change the batch and subdivisons**"
      ]
    },
    {
      "cell_type": "code",
      "metadata": {
        "id": "GFMQp340-IX7"
      },
      "source": [
        "!sed -i 's/batch=64/batch=1/' cfg/yolov4_custom1.cfg\n",
        "!sed -i 's/subdivisions=16/subdivisions=1/' cfg/yolov4_custom1.cfg"
      ],
      "execution_count": null,
      "outputs": []
    },
    {
      "cell_type": "markdown",
      "metadata": {
        "id": "E8O0eqs6-Prk"
      },
      "source": [
        "**Evaluation**"
      ]
    },
    {
      "cell_type": "code",
      "metadata": {
        "id": "E_vmL6te-SiW"
      },
      "source": [
        "#define utility function\n",
        "def imShow(path):\n",
        "  import cv2\n",
        "  import matplotlib.pyplot as plt\n",
        "  %matplotlib inline\n",
        "\n",
        "  image = cv2.imread(path)\n",
        "  height, width = image.shape[:2]\n",
        "  resized_image = cv2.resize(image,(3*width, 3*height), interpolation = cv2.INTER_CUBIC)\n",
        "\n",
        "  fig = plt.gcf()\n",
        "  fig.set_size_inches(18, 10)\n",
        "  plt.axis(\"off\")\n",
        "  #plt.rcParams['figure.figsize'] = [10, 5]\n",
        "  plt.imshow(cv2.cvtColor(resized_image, cv2.COLOR_BGR2RGB))\n",
        "  plt.show()"
      ],
      "execution_count": null,
      "outputs": []
    },
    {
      "cell_type": "code",
      "metadata": {
        "id": "KOG4C8zc-Y9z"
      },
      "source": [
        "%cd /content/drive/MyDrive/YOLO_Custom"
      ],
      "execution_count": null,
      "outputs": []
    },
    {
      "cell_type": "markdown",
      "metadata": {
        "id": "JIheTvjR-cmq"
      },
      "source": [
        "**Check Weight**"
      ]
    },
    {
      "cell_type": "code",
      "metadata": {
        "id": "5m5jUDqK-cDb"
      },
      "source": [
        "!ls backup"
      ],
      "execution_count": null,
      "outputs": []
    },
    {
      "cell_type": "code",
      "metadata": {
        "id": "OguKzxXr-hUt"
      },
      "source": [
        "#/test has images that we can test our detector on\n",
        "import os\n",
        "test_images = [f for f in os.listdir('Test') if f.endswith('.jpg')]\n",
        "import random\n",
        "img_path = \"Test/\" + random.choice(test_images);\n",
        "\n",
        "#test out our detector!\n",
        "!darknet/darknet detector test data/obj.data darknet/cfg/yolov4_custom.cfg backup/yolov4_custom_last.weights {img_path} -dont-show\n",
        "imShow('/content/drive/MyDrive/YOLO_Custom/predictions.jpg')"
      ],
      "execution_count": null,
      "outputs": []
    }
  ]
}